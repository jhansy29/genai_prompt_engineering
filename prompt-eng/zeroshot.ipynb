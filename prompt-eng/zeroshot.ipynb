{
 "cells": [
  {
   "cell_type": "markdown",
   "metadata": {},
   "source": [
    "#Zero-Shot Prompting\n",
    "Zero-shot prompting refers to a technique in prompt engineering where you provide a model with a task without any prior examples. The model is expected to understand and generate a response or complete the task purely based on the given instruction.\n",
    "\n",
    "In other words, the model is given \"zero\" prior training examples or demonstrations in the prompt and relies on its pre-trained knowledge to infer what is needed.\n",
    "\n",
    "#References:\n",
    "[Wei et al. (2022)](https://arxiv.org/pdf/2109.01652): demonstrate how instruction tuning improves zero-shot learning"
   ]
  },
  {
   "cell_type": "code",
   "execution_count": 7,
   "metadata": {},
   "outputs": [
    {
     "name": "stdout",
     "output_type": "stream",
     "text": [
      "### **Requirement Analysis for SQL_Guardian**\n",
      "\n",
      "#### **Functional Requirements:**\n",
      "\n",
      "* The system must provide an interactive learning experience for SQL, guiding users through structured lessons and real-time query execution.\n",
      "* The bot must be able to receive and respond to user queries related to SQL, providing detailed explanations and examples.\n",
      "* The system must have a built-in SQL execution environment where users can test their queries and receive instant feedback.\n",
      "* The bot must analyze user queries, suggest optimizations, and explain execution plans.\n",
      "* The system must offer FAANG-style SQL coding challenges with real-time evaluation and feedback.\n",
      "* The system must track user progress and adapt question difficulty based on performance.\n",
      "\n",
      "#### **Non-Functional Requirements:**\n",
      "\n",
      "* **Performance:** The system must be able to handle a large number of users simultaneously without significant degradation in performance.\n",
      "* **Security:** The system must ensure the confidentiality, integrity, and availability of user data and queries.\n",
      "* **Scalability:** The system must be able to scale horizontally to accommodate increasing user traffic and query volumes.\n",
      "\n",
      "#### **Constraints & Edge Cases:**\n",
      "\n",
      "* **User Input Validation:** The system must validate user input to prevent SQL injection attacks and ensure data consistency.\n",
      "* **Query Complexity:** The system must handle complex queries with multiple joins, subqueries, and aggregations.\n",
      "* **Data Volume:** The system must be able to handle large datasets and query volumes without significant performance degradation.\n",
      "* **User Behavior:** The system must adapt to user behavior, such as frequent mistakes or slow progress, to provide personalized learning paths.\n",
      "\n",
      "#### **Technical Requirements:**\n",
      "\n",
      "* **Architecture:** The system will use a microservices architecture with separate services for lesson management, query execution, and user authentication.\n",
      "* **APIs:** The system will use RESTful APIs for communication between services and with the frontend application.\n",
      "* **Database:** The system will use a relational database (e.g., PostgreSQL) to store user data, lessons, and queries.\n",
      "Time taken: 13.667s\n"
     ]
    }
   ],
   "source": [
    "import json\n",
    "from _pipeline import create_payload, model_req\n",
    "\n",
    "USE_CASE_DESCRIPTION = \"\"\"\n",
    "We seek to develop a solution SQL_Guardian, aligned with the Use Case for AI-Powered SQL Learning & Interview Preparation.\n",
    "\n",
    "Our solution aims to provide an interactive learning experience for SQL, guiding users through structured lessons, real-time query execution, and advanced interview preparation using GenAI capabilities.\n",
    "\n",
    "The solution will work as follows:\n",
    "\n",
    "1. **Interactive SQL Learning**: Users can ask SQL-related questions, receive detailed explanations, and see real-world examples.\n",
    "2. **Real-time Query Execution**: The bot provides a built-in SQL execution environment where users can test their queries and receive instant feedback.\n",
    "3. **Automated Query Evaluation**: The bot analyzes user queries, suggests optimizations, and explains execution plans.\n",
    "4. **Interview Preparation Mode**: Offers FAANG-style SQL coding challenges with real-time evaluation and feedback.\n",
    "5. **Personalized Learning Paths**: Tracks user progress and adapts question difficulty based on performance.\n",
    "\"\"\"\n",
    "\n",
    "zero_shot_prompt = f\"\"\"\n",
    "You are an AI requirement analysis expert.\n",
    "\n",
    "### **Task:**  \n",
    "Perform a **requirement analysis** for the following project.\n",
    "\n",
    "---\n",
    "### **Project Description:**\n",
    "{USE_CASE_DESCRIPTION}\n",
    "\n",
    "---\n",
    "### **Instructions:**  \n",
    "- Extract **Functional Requirements** (What the system must do).\n",
    "- Extract **Non-Functional Requirements** (Performance, security, scalability).\n",
    "- Identify **Constraints & Edge Cases**.\n",
    "- List **Technical Requirements** (Architecture, APIs, Database).\n",
    "\n",
    "---\n",
    "Now, generate a structured **requirement analysis** in bullet-point format.\n",
    "\"\"\"\n",
    "\n",
    "payload = create_payload(target=\"ollama\",\n",
    "                         model=\"llama3.2:latest\",\n",
    "                         prompt=zero_shot_prompt,\n",
    "                         temperature=0.3,\n",
    "                         num_ctx=1000,\n",
    "                         num_predict=2000)\n",
    "\n",
    "time, response = model_req(payload=payload)\n",
    "time_values=[]\n",
    "time_values.append(time)\n",
    "print(response)\n",
    "print(f'Time taken: {time}s')\n"
   ]
  },
  {
   "cell_type": "code",
   "execution_count": 9,
   "metadata": {},
   "outputs": [
    {
     "name": "stdout",
     "output_type": "stream",
     "text": [
      "### Requirement Analysis for SQL_Guardian Project\n",
      "\n",
      "#### Functional Requirements:\n",
      "\n",
      "* The system shall provide an interactive learning experience for SQL, guiding users through structured lessons and real-time query execution.\n",
      "\t+ User can ask SQL-related questions and receive detailed explanations.\n",
      "\t+ System provides a built-in SQL execution environment where users can test their queries and receive instant feedback.\n",
      "\t+ Automated Query Evaluation: the system analyzes user queries, suggests optimizations, and explains execution plans.\n",
      "* The system shall offer FAANG-style SQL coding challenges with real-time evaluation and feedback in Interview Preparation Mode.\n",
      "\t+ User can access personalized learning paths and track progress.\n",
      "\t+ System adapts question difficulty based on user performance.\n",
      "\n",
      "#### Non-Functional Requirements:\n",
      "\n",
      "* Performance:\n",
      "\t+ The system shall respond to user queries within 2 seconds.\n",
      "\t+ The system shall be able to handle a minimum of 100 concurrent users.\n",
      "* Security:\n",
      "\t+ The system shall implement robust authentication and authorization mechanisms to protect user data and query execution results.\n",
      "\t+ The system shall enforce secure data storage and transmission protocols (e.g., HTTPS).\n",
      "* Scalability:\n",
      "\t+ The system shall scale horizontally to accommodate increasing user traffic and demand for resources.\n",
      "\t+ The system shall be able to handle an average of 5000 concurrent users per hour.\n",
      "\n",
      "#### Constraints & Edge Cases:\n",
      "\n",
      "* The system may encounter difficulties in processing complex queries with large datasets.\n",
      "* Users may report inaccuracies or errors in query execution results.\n",
      "* System administrators need to regularly update the database and ensure data consistency.\n",
      "\n",
      "#### Technical Requirements:\n",
      "\n",
      "* Architecture:\n",
      "\t+ The system shall be built using a microservices architecture, allowing for scalability and flexibility.\n",
      "\t+ The system shall utilize containerization (e.g., Docker) for efficient resource allocation.\n",
      "* APIs:\n",
      "\t+ The system shall expose RESTful APIs for user authentication, query execution, and data retrieval.\n",
      "\t+ The system shall provide GraphQL-based APIs for advanced queries and schema management.\n",
      "* Database:\n",
      "\t+ The system shall use a relational database management system (RDBMS) such as PostgreSQL or MySQL.\n",
      "\t+ The system shall implement a caching mechanism to improve performance and reduce latency.\n",
      "\n",
      "#### Additional Requirements:\n",
      "\n",
      "* GenAI capabilities: integrate AI-powered SQL learning and evaluation tools into the system.\n",
      "* Integration with third-party services: consider integrating with popular SQL tools, IDEs, and other relevant services for enhanced functionality and user experience.\n",
      "Time taken: 15.697s\n"
     ]
    }
   ],
   "source": [
    "payload = create_payload(target=\"ollama\",\n",
    "                         model=\"llama3.2:latest\",\n",
    "                         prompt=zero_shot_prompt,\n",
    "                         temperature=0.7,\n",
    "                         num_ctx=1000,\n",
    "                         num_predict=2000)\n",
    "\n",
    "time, response = model_req(payload=payload)\n",
    "print(response)\n",
    "time_values.append(time)\n",
    "print(f'Time taken: {time}s')"
   ]
  },
  {
   "cell_type": "code",
   "execution_count": 10,
   "metadata": {},
   "outputs": [
    {
     "name": "stdout",
     "output_type": "stream",
     "text": [
      "### Requirement Analysis for SQL_Guardian\n",
      "\n",
      "#### Functional Requirements:\n",
      "\n",
      "* Users can interact with the system through various interfaces (web, mobile, etc.) to access learning resources and engage with the AI-powered bot.\n",
      "* The AI-powered bot provides detailed explanations and real-world examples for SQL-related concepts and questions.\n",
      "* The system allows users to ask SQL-related questions, receive instant feedback, and see detailed explanations.\n",
      "* The built-in SQL execution environment enables users to test their queries, receive immediate feedback, and view optimized execution plans.\n",
      "* The system offers FAANG-style SQL coding challenges with real-time evaluation and feedback.\n",
      "* Personalized learning paths are created based on user performance, adapting question difficulty accordingly.\n",
      "\n",
      "#### Non-Functional Requirements:\n",
      "\n",
      "* **Performance:**\n",
      "\t+ The system must respond to user queries within 2 seconds.\n",
      "\t+ Queries must be executed in under 10 milliseconds.\n",
      "* **Security:**\n",
      "\t+ All data transmitted between the client and server must be encrypted using HTTPS.\n",
      "\t+ User credentials and personal data must be stored securely, adhering to GDPR and other relevant regulations.\n",
      "* **Scalability:**\n",
      "\t+ The system can handle up to 1000 concurrent users without significant degradation in performance.\n",
      "\t+ Data storage should be scalable, with the ability to expand capacity as needed.\n",
      "\n",
      "#### Constraints & Edge Cases:\n",
      "\n",
      "* The AI-powered bot may not always understand the nuances of SQL and may require additional context or clarification for complex questions.\n",
      "* Users may need assistance troubleshooting issues with their queries, such as syntax errors or unexpected behavior.\n",
      "* Inadequate data entry (e.g., typos, missing characters) can lead to incorrect query execution results.\n",
      "\n",
      "#### Technical Requirements:\n",
      "\n",
      "* **Architecture:**\n",
      "\t+ The system will be built using a microservices architecture, with separate services for the AI-powered bot, SQL execution environment, and user authentication.\n",
      "\t+ A containerization platform like Docker will be used to manage dependencies and ensure consistency across environments.\n",
      "* **APIs:**\n",
      "\t+ RESTful APIs will be implemented for seamless integration with mobile apps, web interfaces, and other third-party tools.\n",
      "\t+ The API should support JSON data formats and utilize API versioning (e.g., `v1` vs. `v2`) for backwards compatibility.\n",
      "* **Database:**\n",
      "\t+ A NoSQL database (e.g., MongoDB, Cassandra) will be used to store user data, course content, and query history.\n",
      "\t+ The database should support high availability, scalability, and replication capabilities.\n",
      "\n",
      "#### Additional Requirements:\n",
      "\n",
      "* **Data Quality:** Ensure the accuracy of AI-generated explanations and query suggestions.\n",
      "* **Accessibility:** Implement features to accommodate users with disabilities (e.g., screen readers, keyboard-only navigation).\n",
      "* **Regulatory Compliance:** Adhere to relevant data protection regulations and obtain necessary certifications (e.g., GDPR, CCPA).\n",
      "\n",
      "### Next Steps:\n",
      "\n",
      "Based on this requirement analysis, the development team should focus on defining detailed requirements for each component of the system, including user authentication, AI-powered bot functionality, SQL execution environment, and data storage.\n",
      "Time taken: 20.562s\n"
     ]
    }
   ],
   "source": [
    "payload = create_payload(target=\"ollama\",\n",
    "                         model=\"llama3.2:latest\",\n",
    "                         prompt=zero_shot_prompt,\n",
    "                         temperature=1.0,\n",
    "                         num_ctx=1000,\n",
    "                         num_predict=2000)\n",
    "\n",
    "time, response = model_req(payload=payload)\n",
    "print(response)\n",
    "time_values.append(time)\n",
    "print(f'Time taken: {time}s')"
   ]
  },
  {
   "cell_type": "code",
   "execution_count": 14,
   "metadata": {},
   "outputs": [
    {
     "name": "stdout",
     "output_type": "stream",
     "text": [
      "Collecting matplotlib\n",
      "  Downloading matplotlib-3.10.1-cp311-cp311-win_amd64.whl.metadata (11 kB)\n",
      "Collecting contourpy>=1.0.1 (from matplotlib)\n",
      "  Downloading contourpy-1.3.1-cp311-cp311-win_amd64.whl.metadata (5.4 kB)\n",
      "Collecting cycler>=0.10 (from matplotlib)\n",
      "  Using cached cycler-0.12.1-py3-none-any.whl.metadata (3.8 kB)\n",
      "Collecting fonttools>=4.22.0 (from matplotlib)\n",
      "  Downloading fonttools-4.56.0-cp311-cp311-win_amd64.whl.metadata (103 kB)\n",
      "     ---------------------------------------- 0.0/104.0 kB ? eta -:--:--\n",
      "     --- ------------------------------------ 10.2/104.0 kB ? eta -:--:--\n",
      "     --- ------------------------------------ 10.2/104.0 kB ? eta -:--:--\n",
      "     ---------- -------------------------- 30.7/104.0 kB 330.3 kB/s eta 0:00:01\n",
      "     -----------------------------------  102.4/104.0 kB 658.3 kB/s eta 0:00:01\n",
      "     ------------------------------------ 104.0/104.0 kB 600.8 kB/s eta 0:00:00\n",
      "Collecting kiwisolver>=1.3.1 (from matplotlib)\n",
      "  Downloading kiwisolver-1.4.8-cp311-cp311-win_amd64.whl.metadata (6.3 kB)\n",
      "Collecting numpy>=1.23 (from matplotlib)\n",
      "  Downloading numpy-2.2.3-cp311-cp311-win_amd64.whl.metadata (60 kB)\n",
      "     ---------------------------------------- 0.0/60.8 kB ? eta -:--:--\n",
      "     ---------------------------------------- 60.8/60.8 kB 1.6 MB/s eta 0:00:00\n",
      "Requirement already satisfied: packaging>=20.0 in c:\\users\\jhans\\appdata\\local\\packages\\pythonsoftwarefoundation.python.3.11_qbz5n2kfra8p0\\localcache\\local-packages\\python311\\site-packages (from matplotlib) (24.2)\n",
      "Collecting pillow>=8 (from matplotlib)\n",
      "  Downloading pillow-11.1.0-cp311-cp311-win_amd64.whl.metadata (9.3 kB)\n",
      "Collecting pyparsing>=2.3.1 (from matplotlib)\n",
      "  Using cached pyparsing-3.2.1-py3-none-any.whl.metadata (5.0 kB)\n",
      "Requirement already satisfied: python-dateutil>=2.7 in c:\\users\\jhans\\appdata\\local\\packages\\pythonsoftwarefoundation.python.3.11_qbz5n2kfra8p0\\localcache\\local-packages\\python311\\site-packages (from matplotlib) (2.9.0.post0)\n",
      "Requirement already satisfied: six>=1.5 in c:\\users\\jhans\\appdata\\local\\packages\\pythonsoftwarefoundation.python.3.11_qbz5n2kfra8p0\\localcache\\local-packages\\python311\\site-packages (from python-dateutil>=2.7->matplotlib) (1.17.0)\n",
      "Downloading matplotlib-3.10.1-cp311-cp311-win_amd64.whl (8.1 MB)\n",
      "   ---------------------------------------- 0.0/8.1 MB ? eta -:--:--\n",
      "   - -------------------------------------- 0.2/8.1 MB 7.0 MB/s eta 0:00:02\n",
      "   ---- ----------------------------------- 0.9/8.1 MB 9.8 MB/s eta 0:00:01\n",
      "   ----------- ---------------------------- 2.4/8.1 MB 16.7 MB/s eta 0:00:01\n",
      "   --------------------- ------------------ 4.4/8.1 MB 25.2 MB/s eta 0:00:01\n",
      "   ------------------------- -------------- 5.2/8.1 MB 25.3 MB/s eta 0:00:01\n",
      "   ---------------------------------- ----- 6.9/8.1 MB 25.9 MB/s eta 0:00:01\n",
      "   ---------------------------------------  8.1/8.1 MB 27.1 MB/s eta 0:00:01\n",
      "   ---------------------------------------- 8.1/8.1 MB 24.5 MB/s eta 0:00:00\n",
      "Downloading contourpy-1.3.1-cp311-cp311-win_amd64.whl (219 kB)\n",
      "   ---------------------------------------- 0.0/219.8 kB ? eta -:--:--\n",
      "   --------------------------------------- 219.8/219.8 kB 14.0 MB/s eta 0:00:00\n",
      "Using cached cycler-0.12.1-py3-none-any.whl (8.3 kB)\n",
      "Downloading fonttools-4.56.0-cp311-cp311-win_amd64.whl (2.2 MB)\n",
      "   ---------------------------------------- 0.0/2.2 MB ? eta -:--:--\n",
      "   ---------------------------------------  2.2/2.2 MB 70.4 MB/s eta 0:00:01\n",
      "   ---------------------------------------- 2.2/2.2 MB 47.6 MB/s eta 0:00:00\n",
      "Downloading kiwisolver-1.4.8-cp311-cp311-win_amd64.whl (71 kB)\n",
      "   ---------------------------------------- 0.0/72.0 kB ? eta -:--:--\n",
      "   ---------------------------------------- 72.0/72.0 kB 4.1 MB/s eta 0:00:00\n",
      "Downloading numpy-2.2.3-cp311-cp311-win_amd64.whl (12.9 MB)\n",
      "   ---------------------------------------- 0.0/12.9 MB ? eta -:--:--\n",
      "   ------ --------------------------------- 2.2/12.9 MB 47.4 MB/s eta 0:00:01\n",
      "   ----------- ---------------------------- 3.7/12.9 MB 40.0 MB/s eta 0:00:01\n",
      "   ---------------- ----------------------- 5.3/12.9 MB 42.2 MB/s eta 0:00:01\n",
      "   ---------------- ----------------------- 5.3/12.9 MB 42.2 MB/s eta 0:00:01\n",
      "   ---------------- ----------------------- 5.3/12.9 MB 42.2 MB/s eta 0:00:01\n",
      "   -------------------- ------------------- 6.7/12.9 MB 25.2 MB/s eta 0:00:01\n",
      "   --------------------------------- ------ 10.8/12.9 MB 32.7 MB/s eta 0:00:01\n",
      "   ---------------------------------------  12.9/12.9 MB 34.4 MB/s eta 0:00:01\n",
      "   ---------------------------------------- 12.9/12.9 MB 29.7 MB/s eta 0:00:00\n",
      "Downloading pillow-11.1.0-cp311-cp311-win_amd64.whl (2.6 MB)\n",
      "   ---------------------------------------- 0.0/2.6 MB ? eta -:--:--\n",
      "   ------------------------------------ --- 2.4/2.6 MB 75.2 MB/s eta 0:00:01\n",
      "   ---------------------------------------- 2.6/2.6 MB 41.5 MB/s eta 0:00:00\n",
      "Using cached pyparsing-3.2.1-py3-none-any.whl (107 kB)\n",
      "Installing collected packages: pyparsing, pillow, numpy, kiwisolver, fonttools, cycler, contourpy, matplotlib\n",
      "Successfully installed contourpy-1.3.1 cycler-0.12.1 fonttools-4.56.0 kiwisolver-1.4.8 matplotlib-3.10.1 numpy-2.2.3 pillow-11.1.0 pyparsing-3.2.1\n"
     ]
    },
    {
     "name": "stderr",
     "output_type": "stream",
     "text": [
      "\n",
      "[notice] A new release of pip is available: 24.0 -> 25.0.1\n",
      "[notice] To update, run: C:\\Users\\jhans\\AppData\\Local\\Microsoft\\WindowsApps\\PythonSoftwareFoundation.Python.3.11_qbz5n2kfra8p0\\python.exe -m pip install --upgrade pip\n"
     ]
    }
   ],
   "source": [
    "!pip install matplotlib"
   ]
  },
  {
   "cell_type": "code",
   "execution_count": 20,
   "metadata": {},
   "outputs": [],
   "source": [
    "import matplotlib.pyplot as plt\n",
    "temp_values=[0.3,0.7,1.0]"
   ]
  },
  {
   "cell_type": "code",
   "execution_count": 22,
   "metadata": {},
   "outputs": [
    {
     "data": {
      "text/plain": [
       "[13.667, 15.697, 20.562]"
      ]
     },
     "execution_count": 22,
     "metadata": {},
     "output_type": "execute_result"
    }
   ],
   "source": [
    "time_values"
   ]
  },
  {
   "cell_type": "code",
   "execution_count": 21,
   "metadata": {},
   "outputs": [
    {
     "data": {
      "image/png": "[encoded data removed]",
      "text/plain": [
       "<Figure size 500x500 with 1 Axes>"
      ]
     },
     "metadata": {},
     "output_type": "display_data"
    }
   ],
   "source": [
    "plt.figure(figsize=(5, 5))  # Use figsize instead of separate parameters\n",
    "plt.plot(temp_values, time_values, marker='o', linestyle='-')  # Added markers for clarity\n",
    "plt.xlabel(\"Temperature Values\")\n",
    "plt.ylabel(\"Time Taken\")\n",
    "plt.title(\"Effect of Temperature on Time Taken\")\n",
    "plt.grid(True)\n",
    "plt.show()"
   ]
  }
 ],
 "metadata": {
  "kernelspec": {
   "display_name": "Python 3",
   "language": "python",
   "name": "python3"
  },
  "language_info": {
   "codemirror_mode": {
    "name": "ipython",
    "version": 3
   },
   "file_extension": ".py",
   "mimetype": "text/x-python",
   "name": "python",
   "nbconvert_exporter": "python",
   "pygments_lexer": "ipython3",
   "version": "3.11.9"
  }
 },
 "nbformat": 4,
 "nbformat_minor": 2
}
